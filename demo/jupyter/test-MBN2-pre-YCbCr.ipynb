{
 "cells": [
  {
   "cell_type": "markdown",
   "metadata": {},
   "source": [
    "# Test the pretrained MobileNetV2 with YCbCr color channel"
   ]
  },
  {
   "cell_type": "code",
   "execution_count": 1,
   "metadata": {},
   "outputs": [],
   "source": [
    "%load_ext autoreload\n",
    "%autoreload 2\n",
    "\n",
    "import os, json, argparse, torch, sys\n",
    "import numpy as np\n",
    "from tqdm import tqdm\n",
    "from glob import glob\n",
    "import torch.nn.functional as F\n",
    "from multiprocessing import Pool, cpu_count\n",
    "sys.path.append(\"../\")\n",
    "\n",
    "from utils import image\n",
    "from utils.MobileNetV2_pretrained_imagenet import MobileNetV2\n",
    "from utils.data import NumpyImageLoader\n",
    "from utils.metrics import BinaryClassificationMetrics"
   ]
  },
  {
   "cell_type": "markdown",
   "metadata": {},
   "source": [
    "# Initial procedure"
   ]
  },
  {
   "cell_type": "code",
   "execution_count": 2,
   "metadata": {},
   "outputs": [],
   "source": [
    "# Print parameters\n",
    "\n",
    "params = {}\n",
    "params[\"channel\"] = \"YCbCr\"\n",
    "params[\"threshold\"] = 0.80\n",
    "params[\"test_subset\"] = 5\n",
    "\n",
    "params[\"patch_test_au_dir\"] = \"../backup/MBN2-pre-YCbCr/test/au\"\n",
    "params[\"patch_test_tp_dir\"] = \"../backup/MBN2-pre-YCbCr/test/tp\"\n",
    "\n",
    "params[\"training_log_dir\"] = \"../backup/MBN2-pre-YCbCr/checkpoints/\"\n",
    "MODEL_FILE = os.path.join(params[\"training_log_dir\"], \"model.ckpt\")\n",
    "DEVICE = torch.device('cuda' if torch.cuda.is_available() else 'cpu')\n",
    "\n",
    "params[\"au_subsets_file\"] = \"../dataset/au_subsets.json\"\n",
    "params[\"tp_subsets_file\"] = \"../dataset/tp_subsets.json\"\n",
    "\n",
    "params[\"casia2_au\"] = \"/media/atsg/Data/datasets/casia-dataset/CASIA2/Au\"\n",
    "params[\"casia2_tp\"] = \"/media/atsg/Data/datasets/casia-dataset/CASIA2/Tp\""
   ]
  },
  {
   "cell_type": "code",
   "execution_count": 3,
   "metadata": {},
   "outputs": [],
   "source": [
    "def check_directories(list_dirs):\n",
    "    for dir in list_dirs:\n",
    "        if not os.path.exists(dir):\n",
    "            print(\"makedirs\", dir)\n",
    "            os.makedirs(dir)"
   ]
  },
  {
   "cell_type": "code",
   "execution_count": 4,
   "metadata": {},
   "outputs": [],
   "source": [
    "# Check directories\n",
    "\n",
    "list_dirs = [\n",
    "    params[\"patch_test_au_dir\"],\n",
    "    params[\"patch_test_tp_dir\"],\n",
    "]\n",
    "check_directories(list_dirs)"
   ]
  },
  {
   "cell_type": "markdown",
   "metadata": {},
   "source": [
    "# Test on predicted features"
   ]
  },
  {
   "cell_type": "code",
   "execution_count": 5,
   "metadata": {},
   "outputs": [],
   "source": [
    "# Create parallel pools\n",
    "\n",
    "pools = Pool(processes=cpu_count())"
   ]
  },
  {
   "cell_type": "code",
   "execution_count": 6,
   "metadata": {},
   "outputs": [],
   "source": [
    "# Get information about files on disk\n",
    "\n",
    "au_files = glob(os.path.join(params[\"patch_test_au_dir\"], \"*.*\"))\n",
    "tp_files = glob(os.path.join(params[\"patch_test_tp_dir\"], \"*.*\"))\n",
    "n_au_files, n_tp_files = len(au_files), len(tp_files)\n",
    "scores_au, scores_tp = [], []"
   ]
  },
  {
   "cell_type": "code",
   "execution_count": 7,
   "metadata": {},
   "outputs": [
    {
     "name": "stderr",
     "output_type": "stream",
     "text": [
      "100%|██████████| 1253/1253 [00:04<00:00, 251.40it/s]\n"
     ]
    }
   ],
   "source": [
    "# Test on authentic images\n",
    "\n",
    "for i, file in tqdm(enumerate(au_files), total=n_au_files):\n",
    "    # Load softmaxs and coords from disk\n",
    "    data = np.load(file).item()\n",
    "    softmaxs, coords = data[\"softmaxs\"], data[\"coords\"]\n",
    "    softmaxs = softmaxs[:, 1]\n",
    "\n",
    "    # Postprocess\n",
    "    labels = image.post_process(softmaxs, coords, 8, params[\"threshold\"], 32, pools=pools)\n",
    "    mark = image.fusion(labels)\n",
    "    scores_au.append(mark)"
   ]
  },
  {
   "cell_type": "code",
   "execution_count": 8,
   "metadata": {},
   "outputs": [
    {
     "name": "stderr",
     "output_type": "stream",
     "text": [
      "100%|██████████| 766/766 [00:04<00:00, 187.53it/s]\n"
     ]
    }
   ],
   "source": [
    "# Test on tampered images\n",
    "\n",
    "for i, file in tqdm(enumerate(tp_files), total=n_tp_files):\n",
    "    # Load softmaxs and coords from disk\n",
    "    data = np.load(file).item()\n",
    "    softmaxs, coords = data[\"softmaxs\"], data[\"coords\"]\n",
    "    softmaxs = softmaxs[:, 1]\n",
    "\n",
    "    # Postprocess\n",
    "    labels = image.post_process(softmaxs, coords, 8, params[\"threshold\"], 32, pools=pools)\n",
    "    mark = image.fusion(labels)\n",
    "    scores_tp.append(mark)"
   ]
  },
  {
   "cell_type": "code",
   "execution_count": 9,
   "metadata": {},
   "outputs": [
    {
     "name": "stdout",
     "output_type": "stream",
     "text": [
      "TP = 73.50 %; FP = 26.50 %\n",
      "TN = 88.91 %; FN = 11.09 %\n",
      "Accuracy = 83.06 %\n",
      "Precision = 73.50 %\n",
      "Recall = 80.20 %\n",
      "F-score = 76.70 %\n"
     ]
    }
   ],
   "source": [
    "# Print testing metrics\n",
    "\n",
    "metrics = BinaryClassificationMetrics()\n",
    "metrics.compute_all(scores_tp, scores_au)\n",
    "metrics.print_metrics()\n",
    "# metrics.write_to_file(params[\"test_result_file\"])"
   ]
  },
  {
   "cell_type": "code",
   "execution_count": 10,
   "metadata": {},
   "outputs": [],
   "source": [
    "# Close parallel pools\n",
    "\n",
    "pools.close()\n",
    "pools.terminate()"
   ]
  },
  {
   "cell_type": "code",
   "execution_count": null,
   "metadata": {},
   "outputs": [],
   "source": []
  }
 ],
 "metadata": {
  "kernelspec": {
   "display_name": "Python 3",
   "language": "python",
   "name": "python3"
  },
  "language_info": {
   "codemirror_mode": {
    "name": "ipython",
    "version": 3
   },
   "file_extension": ".py",
   "mimetype": "text/x-python",
   "name": "python",
   "nbconvert_exporter": "python",
   "pygments_lexer": "ipython3",
   "version": "3.6.5"
  }
 },
 "nbformat": 4,
 "nbformat_minor": 2
}
